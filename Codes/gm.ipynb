{
 "cells": [
  {
   "cell_type": "code",
   "execution_count": 29,
   "outputs": [],
   "source": [
    "import pandas as pd\n",
    "import statsmodels.api as sm\n",
    "from sklearn.linear_model import LogisticRegression"
   ],
   "metadata": {
    "collapsed": false,
    "pycharm": {
     "name": "#%%\n"
    }
   }
  },
  {
   "cell_type": "code",
   "execution_count": 27,
   "outputs": [],
   "source": [
    "def clean_text(txt_in):\n",
    "    import re\n",
    "    clean = re.sub('[^A-Za-z0-9]+', \" \", txt_in).strip()\n",
    "    return clean\n",
    "def rem_sw(var):\n",
    "    from nltk.corpus import stopwords\n",
    "    sw = set(stopwords.words(\"English\"))\n",
    "    my_test = [word for word in var.split() if word not in sw]\n",
    "    my_test = ' '.join(my_test)\n",
    "    return my_test\n",
    "def updown(x):\n",
    "    if x >0:\n",
    "        return 1\n",
    "    else:\n",
    "        return 0"
   ],
   "metadata": {
    "collapsed": false,
    "pycharm": {
     "name": "#%%\n"
    }
   }
  },
  {
   "cell_type": "code",
   "execution_count": 3,
   "outputs": [],
   "source": [
    "#Price dataframe calculate percentage difference\n",
    "prices = pd.read_csv('GM.csv')\n",
    "prices['diff'] = (prices['Close'] - prices['Open'])/prices['Open']\n",
    "prices['date'] = pd.to_datetime(prices['Date']).dt.date"
   ],
   "metadata": {
    "collapsed": false,
    "pycharm": {
     "name": "#%%\n"
    }
   }
  },
  {
   "cell_type": "code",
   "execution_count": 4,
   "outputs": [],
   "source": [
    "#filter tweets for market hours\n",
    "tweets = pd.read_csv('tweets2.csv')[['created_at','full_text']]\n",
    "tweets['dt'] = pd.to_datetime(tweets['created_at'])\n",
    "tweets.set_index('dt', inplace=True)\n",
    "tweets = tweets.between_time('09:30', '16:00')\n",
    "tweets.index = pd.to_datetime(tweets.index)\n",
    "fil = tweets.between_time('09:30:00', '16:00:00')\n",
    "tweets['date'] = tweets.index.date"
   ],
   "metadata": {
    "collapsed": false,
    "pycharm": {
     "name": "#%%\n"
    }
   }
  },
  {
   "cell_type": "code",
   "execution_count": 5,
   "outputs": [],
   "source": [
    "#basic cleaning\n",
    "tweets['tweet'] = tweets['full_text'].apply(clean_text).apply(rem_sw)"
   ],
   "metadata": {
    "collapsed": false,
    "pycharm": {
     "name": "#%%\n"
    }
   }
  },
  {
   "cell_type": "code",
   "execution_count": 7,
   "outputs": [],
   "source": [
    "#merge with price data\n",
    "clean = tweets[['date','tweet']].merge(prices, on='date')"
   ],
   "metadata": {
    "collapsed": false,
    "pycharm": {
     "name": "#%%\n"
    }
   }
  },
  {
   "cell_type": "code",
   "execution_count": 8,
   "outputs": [],
   "source": [
    "#VADER sentiment analysis\n",
    "from vaderSentiment.vaderSentiment import SentimentIntensityAnalyzer\n",
    "analyzer = SentimentIntensityAnalyzer()"
   ],
   "metadata": {
    "collapsed": false,
    "pycharm": {
     "name": "#%%\n"
    }
   }
  },
  {
   "cell_type": "code",
   "execution_count": 9,
   "outputs": [],
   "source": [
    "clean['compound'] = [analyzer.polarity_scores(x)['compound'] for x in clean['tweet']]\n",
    "clean['neg'] = [analyzer.polarity_scores(x)['neg'] for x in clean['tweet']]\n",
    "clean['neu'] = [analyzer.polarity_scores(x)['neu'] for x in clean['tweet']]\n",
    "clean['pos'] = [analyzer.polarity_scores(x)['pos'] for x in clean['tweet']]"
   ],
   "metadata": {
    "collapsed": false,
    "pycharm": {
     "name": "#%%\n"
    }
   }
  },
  {
   "cell_type": "code",
   "execution_count": 10,
   "outputs": [],
   "source": [
    "x = ['compound','neg','neu','pos']"
   ],
   "metadata": {
    "collapsed": false,
    "pycharm": {
     "name": "#%%\n"
    }
   }
  },
  {
   "cell_type": "code",
   "execution_count": 13,
   "outputs": [
    {
     "data": {
      "text/plain": "<class 'statsmodels.iolib.summary.Summary'>\n\"\"\"\n                                 OLS Regression Results                                \n=======================================================================================\nDep. Variable:                   diff   R-squared (uncentered):                   0.010\nModel:                            OLS   Adj. R-squared (uncentered):             -0.009\nMethod:                 Least Squares   F-statistic:                             0.5178\nDate:                Sat, 04 Dec 2021   Prob (F-statistic):                       0.723\nTime:                        21:59:53   Log-Likelihood:                          560.49\nNo. Observations:                 205   AIC:                                     -1113.\nDf Residuals:                     201   BIC:                                     -1100.\nDf Model:                           4                                                  \nCovariance Type:            nonrobust                                                  \n==============================================================================\n                 coef    std err          t      P>|t|      [0.025      0.975]\n------------------------------------------------------------------------------\ncompound      -0.0049      0.007     -0.674      0.501      -0.019       0.009\nneg            0.0132      0.021      0.622      0.534      -0.029       0.055\nneu            0.0016      0.003      0.546      0.585      -0.004       0.007\npos            0.0080      0.013      0.607      0.545      -0.018       0.034\n==============================================================================\nOmnibus:                       11.729   Durbin-Watson:                   1.820\nProb(Omnibus):                  0.003   Jarque-Bera (JB):               20.998\nSkew:                           0.270   Prob(JB):                     2.76e-05\nKurtosis:                       4.472   Cond. No.                         20.8\n==============================================================================\n\nNotes:\n[1] R² is computed without centering (uncentered) since the model does not contain a constant.\n[2] Standard Errors assume that the covariance matrix of the errors is correctly specified.\n\"\"\"",
      "text/html": "<table class=\"simpletable\">\n<caption>OLS Regression Results</caption>\n<tr>\n  <th>Dep. Variable:</th>          <td>diff</td>       <th>  R-squared (uncentered):</th>      <td>   0.010</td>\n</tr>\n<tr>\n  <th>Model:</th>                   <td>OLS</td>       <th>  Adj. R-squared (uncentered):</th> <td>  -0.009</td>\n</tr>\n<tr>\n  <th>Method:</th>             <td>Least Squares</td>  <th>  F-statistic:       </th>          <td>  0.5178</td>\n</tr>\n<tr>\n  <th>Date:</th>             <td>Sat, 04 Dec 2021</td> <th>  Prob (F-statistic):</th>           <td> 0.723</td> \n</tr>\n<tr>\n  <th>Time:</th>                 <td>21:59:53</td>     <th>  Log-Likelihood:    </th>          <td>  560.49</td>\n</tr>\n<tr>\n  <th>No. Observations:</th>      <td>   205</td>      <th>  AIC:               </th>          <td>  -1113.</td>\n</tr>\n<tr>\n  <th>Df Residuals:</th>          <td>   201</td>      <th>  BIC:               </th>          <td>  -1100.</td>\n</tr>\n<tr>\n  <th>Df Model:</th>              <td>     4</td>      <th>                     </th>              <td> </td>   \n</tr>\n<tr>\n  <th>Covariance Type:</th>      <td>nonrobust</td>    <th>                     </th>              <td> </td>   \n</tr>\n</table>\n<table class=\"simpletable\">\n<tr>\n      <td></td>        <th>coef</th>     <th>std err</th>      <th>t</th>      <th>P>|t|</th>  <th>[0.025</th>    <th>0.975]</th>  \n</tr>\n<tr>\n  <th>compound</th> <td>   -0.0049</td> <td>    0.007</td> <td>   -0.674</td> <td> 0.501</td> <td>   -0.019</td> <td>    0.009</td>\n</tr>\n<tr>\n  <th>neg</th>      <td>    0.0132</td> <td>    0.021</td> <td>    0.622</td> <td> 0.534</td> <td>   -0.029</td> <td>    0.055</td>\n</tr>\n<tr>\n  <th>neu</th>      <td>    0.0016</td> <td>    0.003</td> <td>    0.546</td> <td> 0.585</td> <td>   -0.004</td> <td>    0.007</td>\n</tr>\n<tr>\n  <th>pos</th>      <td>    0.0080</td> <td>    0.013</td> <td>    0.607</td> <td> 0.545</td> <td>   -0.018</td> <td>    0.034</td>\n</tr>\n</table>\n<table class=\"simpletable\">\n<tr>\n  <th>Omnibus:</th>       <td>11.729</td> <th>  Durbin-Watson:     </th> <td>   1.820</td>\n</tr>\n<tr>\n  <th>Prob(Omnibus):</th> <td> 0.003</td> <th>  Jarque-Bera (JB):  </th> <td>  20.998</td>\n</tr>\n<tr>\n  <th>Skew:</th>          <td> 0.270</td> <th>  Prob(JB):          </th> <td>2.76e-05</td>\n</tr>\n<tr>\n  <th>Kurtosis:</th>      <td> 4.472</td> <th>  Cond. No.          </th> <td>    20.8</td>\n</tr>\n</table><br/><br/>Notes:<br/>[1] R² is computed without centering (uncentered) since the model does not contain a constant.<br/>[2] Standard Errors assume that the covariance matrix of the errors is correctly specified."
     },
     "execution_count": 13,
     "metadata": {},
     "output_type": "execute_result"
    }
   ],
   "source": [
    "result = sm.OLS(clean['diff'], clean[x]).fit()\n",
    "result.summary()"
   ],
   "metadata": {
    "collapsed": false,
    "pycharm": {
     "name": "#%%\n"
    }
   }
  },
  {
   "cell_type": "code",
   "execution_count": 18,
   "outputs": [],
   "source": [
    "#Logistic regression for price increase\n",
    "clean['up'] = clean['diff'].apply(updown)\n",
    "logreg = LogisticRegression().fit(clean[x], clean['up'])"
   ],
   "metadata": {
    "collapsed": false,
    "pycharm": {
     "name": "#%%\n"
    }
   }
  },
  {
   "cell_type": "code",
   "execution_count": 33,
   "outputs": [
    {
     "data": {
      "text/plain": "array([[100,   7],\n       [ 87,  11]])"
     },
     "execution_count": 33,
     "metadata": {},
     "output_type": "execute_result"
    }
   ],
   "source": [
    "confusion_matrix(clean['up'], logreg.predict(clean[x]))"
   ],
   "metadata": {
    "collapsed": false,
    "pycharm": {
     "name": "#%%\n"
    }
   }
  }
 ],
 "metadata": {
  "kernelspec": {
   "display_name": "Python 3",
   "language": "python",
   "name": "python3"
  },
  "language_info": {
   "codemirror_mode": {
    "name": "ipython",
    "version": 2
   },
   "file_extension": ".py",
   "mimetype": "text/x-python",
   "name": "python",
   "nbconvert_exporter": "python",
   "pygments_lexer": "ipython2",
   "version": "2.7.6"
  }
 },
 "nbformat": 4,
 "nbformat_minor": 0
}